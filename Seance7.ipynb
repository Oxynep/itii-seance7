{
  "nbformat": 4,
  "nbformat_minor": 0,
  "metadata": {
    "kernelspec": {
      "display_name": "Python 3",
      "language": "python",
      "name": "python3"
    },
    "language_info": {
      "codemirror_mode": {
        "name": "ipython",
        "version": 3
      },
      "file_extension": ".py",
      "mimetype": "text/x-python",
      "name": "python",
      "nbconvert_exporter": "python",
      "pygments_lexer": "ipython3",
      "version": "3.7.6"
    },
    "colab": {
      "name": "Seance7.ipynb",
      "provenance": []
    }
  },
  "cells": [
    {
      "cell_type": "markdown",
      "metadata": {
        "id": "E-xLnbJLEr_4"
      },
      "source": [
        "En utilisant numpy:"
      ]
    },
    {
      "cell_type": "markdown",
      "metadata": {
        "id": "pNhUgJLNEr_4"
      },
      "source": [
        "Ex 1 :Addition\n",
        "Écrire un programme pour lire les éléments de deux matrices et ajoutez les deux matrices dans la troisième.\n",
        "\n",
        "La somme de deux matrices de taille (m,n), $(A_{ij}) et (B_{ij}) notée $A+B$  est à nouveau une matrice (C_{ij}) de taille (m,n), obtenue en additionnant les éléments correspondants: $c_{ij}=a_{ij}+b_{ij}$\n"
      ]
    },
    {
      "cell_type": "code",
      "metadata": {
        "id": "rtjCx7E_Er_4",
        "outputId": "a48cf64a-4c44-4714-e743-3755f272e4ed",
        "colab": {
          "base_uri": "https://localhost:8080/"
        }
      },
      "source": [
        "import numpy as np\n",
        "\n",
        "A = np.array([ [3,1,3], [4,3,-1], [2,1,2] ])\n",
        "B = np.array([ [1,-1,3], [2,1,3], [1,2,3] ])\n",
        "\n",
        "C = A+B \n",
        "print(\"A : \", A)\n",
        "print(\"A : \", B)\n",
        "print(\"A + B : \", C)"
      ],
      "execution_count": 1,
      "outputs": [
        {
          "output_type": "stream",
          "text": [
            "A :  [[ 3  1  3]\n",
            " [ 4  3 -1]\n",
            " [ 2  1  2]]\n",
            "A :  [[ 1 -1  3]\n",
            " [ 2  1  3]\n",
            " [ 1  2  3]]\n",
            "A + B :  [[4 0 6]\n",
            " [6 4 2]\n",
            " [3 3 5]]\n"
          ],
          "name": "stdout"
        }
      ]
    },
    {
      "cell_type": "markdown",
      "metadata": {
        "id": "NJ7D8vI6Er_4"
      },
      "source": [
        "Ex2 :Multiplication\n",
        "Écrire un programme pour lire les éléments de deux matrices, puis multipliez les deux matrices dans la troisième.\n",
        "\n",
        "Deux matrices ne peuvent être multipliées que si le nombre de colonnes de la première matrice est le même que le nombre de lignes de la seconde matrice.\n",
        "\n",
        "Si $ A=(a_{ij})$ est une matrice de taille (m,n), $ B=(b_{ij})$ et est une matrice de taille (n,p), alors leur produit, noté $AB=(c_{ij})$ est une matrice de taille (m,p) définie par :\n",
        "$$\\forall i,j : c_{ij}=\\sum_{k=i}^{n} a_{ik}*b_{kj}$$"
      ]
    },
    {
      "cell_type": "code",
      "metadata": {
        "id": "a6Rn5FSiEr_4",
        "outputId": "02df33fa-c475-40f0-a6d7-48f56ba938d6",
        "colab": {
          "base_uri": "https://localhost:8080/"
        }
      },
      "source": [
        "A = np.array([ [3, 1, 4], [2, 2, -1], [1, 2, 2] ])\n",
        "B = np.array([ [2, -1, 3], [2, 1, 3], [1, 2, 3] ])\n",
        " \n",
        "C = A.dot(B)\n",
        " \n",
        "print(\"A : \", A)\n",
        "print(\"B : \", B)\n",
        "print(\"A * B : \", C)"
      ],
      "execution_count": 3,
      "outputs": [
        {
          "output_type": "stream",
          "text": [
            "A :  [[ 3  1  4]\n",
            " [ 2  2 -1]\n",
            " [ 1  2  2]]\n",
            "B :  [[ 2 -1  3]\n",
            " [ 2  1  3]\n",
            " [ 1  2  3]]\n",
            "A * B :  [[12  6 24]\n",
            " [ 7 -2  9]\n",
            " [ 8  5 15]]\n"
          ],
          "name": "stdout"
        }
      ]
    },
    {
      "cell_type": "markdown",
      "metadata": {
        "id": "mhEv_RFQEr_4"
      },
      "source": [
        "Ex 3: Matrice de Markov\n",
        "\n",
        "Une matrice de Markov est une matrice carrée dont chaque élément est un réel compris entre 0 et 1 et dont la somme des éléments de chaque ligne vaut 1. Cela correspond, en probabilité, à la matrice de transition d'une chaîne de Markov finie.\n",
        "\n",
        "Une matrice est dite bistochastique (ou doublement stochastique) si la somme des éléments de chaque ligne et de chaque colonne vaut 1.\n",
        "\n",
        "1. Ecrire une fonction eststochastique(P) qui permet de vérifier est ce que la matrice P est stochastique ou non\n",
        "2. Ecrire une fonction estbistochastique(P) qui permet de vérifier est ce que la matrice P est bistochastique ou non\n",
        "3. Ecrire une fonction vecteurstable(G, h) qui permet de vérifier est ce que h est un vecteur stable de G ou non\n",
        "\n"
      ]
    },
    {
      "cell_type": "code",
      "metadata": {
        "id": "z7tRIQ4KEr_4"
      },
      "source": [
        "def eststochastique(P):\n",
        "    nl = len(P)  # nb lignes\n",
        "    nc = len(P[0])  # nb colonnes\n",
        " \n",
        "    etat = True\n",
        "    for i in range(nl):\n",
        "        s = 0\n",
        "        for j in range(nc):\n",
        "            s += P[i][j]\n",
        "        if s != 1:\n",
        "            etat = False\n",
        "            break\n",
        "    return etat\n",
        " \n",
        " \n",
        "def estbistochastique(P):\n",
        "    nl = len(P)  # nb lignes\n",
        "    nc = len(P[0])  # nb colonnes\n",
        " \n",
        "    etat = True\n",
        "    if eststochastique(P):\n",
        "        for j in range(nc):\n",
        "            s = 0\n",
        "            for i in range(nl):\n",
        "                s += P[i][j]\n",
        "            if s != 1:\n",
        "                etat = False\n",
        "                break\n",
        "    return etat\n",
        " \n",
        " \n",
        "def vecteurstable(G, h):\n",
        "    nl = len(G)  # nblignes\n",
        "    nc = len(G[0])  # nb colonnes\n",
        "    etat = True\n",
        "    if eststochastique(G):\n",
        "        for j in range(nc):\n",
        "            s = 0\n",
        "            for i in range(nl):\n",
        "                s += h[i] * G[i][j]\n",
        "            if s != h[j]:\n",
        "                etat = False\n",
        "                break\n",
        "    else:\n",
        "        etat = False\n",
        "    return etat"
      ],
      "execution_count": 4,
      "outputs": []
    },
    {
      "cell_type": "markdown",
      "metadata": {
        "id": "dOVJ528pEr_4"
      },
      "source": [
        "Ex 4: Transposer\n",
        "\n",
        "Programmer une fonction qui, étant donné une matrice à deux dimensions A, retourne lamatrice B dont la première colonne est la première ligne de A, la seconde la deuxième ligne de A, etc. B s’appelle la transposée de A."
      ]
    },
    {
      "cell_type": "code",
      "metadata": {
        "id": "woW5wje9Er_4",
        "outputId": "73105fcb-e4f2-4da4-8075-6e03e3f4cc09",
        "colab": {
          "base_uri": "https://localhost:8080/"
        }
      },
      "source": [
        "A = np.array([ [3, 1, 5], [9, 8, -1], [18, 12, 2] ])\n",
        " \n",
        "C = A.transpose()\n",
        " \n",
        "print(\"A : \", A)\n",
        "print(\"Transposée de A : \", C)"
      ],
      "execution_count": 5,
      "outputs": [
        {
          "output_type": "stream",
          "text": [
            "A :  [[ 3  1  5]\n",
            " [ 9  8 -1]\n",
            " [18 12  2]]\n",
            "Transposée de A :  [[ 3  9 18]\n",
            " [ 1  8 12]\n",
            " [ 5 -1  2]]\n"
          ],
          "name": "stdout"
        }
      ]
    },
    {
      "cell_type": "markdown",
      "metadata": {
        "id": "M5bXzK-YEr_4"
      },
      "source": [
        "Ex 5: Permutations\n",
        "1. $M$ désignant une matrice quelconque d’entiers à $l_i$ lignes et $co$ colonnes, $n$ un entier quelconque, programmer une fonction qui retourne la matrice $Sortie$ qui empile verticalement les $co+1$ matrices obtenues en adjoignant à $M$ une colonne $A$ à $li$ lignes dont tousles éléments sont égaux à $n$, $A$ étant placée d’abord devant $M$, puis entre la première et deuxième colonne de $M^a$,etc, jusqu’à ce que $A$ devienne sa dernière colonne. La matriceobtenue  aura $co+1$ colonnes et $(n+1)$ $li$ lignes\n",
        "\n",
        "2. Écrire toutes les permutations de(1, ..., n)"
      ]
    },
    {
      "cell_type": "code",
      "metadata": {
        "id": "qWVlaumLafXB"
      },
      "source": [
        "def apply_permutation(A,perm,N):\n",
        "    B=np.empty_like(A) # A est une matrice NxN d'entiers dans range(N)\n",
        "    for i in range(N):\n",
        "            B[A[:]==i]=perm[i] # perm est une permutation de range(N)\n",
        "    return B\n",
        "\n",
        "#appeler la fonction dans un for"
      ],
      "execution_count": 6,
      "outputs": []
    }
  ]
}